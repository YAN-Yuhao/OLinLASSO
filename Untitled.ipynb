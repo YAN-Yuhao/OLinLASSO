{
 "cells": [
  {
   "cell_type": "code",
   "execution_count": 1,
   "id": "f451b5f1",
   "metadata": {},
   "outputs": [],
   "source": [
    "import numpy as np\n",
    "\n",
    "from sklearn.linear_model import LinearRegression\n",
    "from sklearn.linear_model import Lasso\n",
    "from sklearn.linear_model import LassoCV\n",
    "import timeit\n",
    "import pickle"
   ]
  },
  {
   "cell_type": "code",
   "execution_count": 2,
   "id": "0fb98f33",
   "metadata": {},
   "outputs": [],
   "source": [
    "def cal_grad(X, y, theta):\n",
    "    \n",
    "    t = len(y)\n",
    "    #print(t)\n",
    "    temp = X.T@theta - y\n",
    "    #print(np.shape(temp))\n",
    "    #temp = temp[:,0]\n",
    "    #print('The shape for temp is',temp.shape)\n",
    "    res = X@temp\n",
    "    #print(np.shape(temp))\n",
    "    #print('The shape for res is',res.shape)\n",
    "    return res/t"
   ]
  },
  {
   "cell_type": "code",
   "execution_count": 25,
   "id": "92d80a8b",
   "metadata": {},
   "outputs": [],
   "source": [
    "from datetime import datetime\n",
    "np.random.seed(1)\n",
    "\n",
    "p = 12\n",
    "T = 100\n",
    "theta_true = np.random.normal(0, 0.2, p)\n",
    "for i in range(len(theta_true)):\n",
    "    if abs(theta_true[i])<0.1:\n",
    "        theta_true[i]=0.0\n",
    "X_data = np.random.normal(0,1,(p,T))\n",
    "y_data = X_data.T.dot(theta_true) + np.random.normal(0,1,T)\n",
    "\n",
    "theta_init = np.random.normal(0, 0.5, p)\n",
    "\n",
    "X0_data = np.random.normal(0,1,(p,50))\n",
    "y0_data = X0_data.T.dot(theta_true) + np.random.normal(0,1,50)"
   ]
  },
  {
   "cell_type": "code",
   "execution_count": 26,
   "id": "3e2e6216",
   "metadata": {},
   "outputs": [],
   "source": [
    "def closed_solve(X,y,lam,phi,t):\n",
    "    #print(X.shape)\n",
    "    #print(y.shape)\n",
    "    #print(X)\n",
    "    #print(y)\n",
    "    flag=X@y-t*phi\n",
    "    temp=np.linalg.inv(X@X.T)\n",
    "    return temp@(np.sign(flag)*np.maximum((abs(flag))-lam*t,0))"
   ]
  },
  {
   "cell_type": "code",
   "execution_count": 27,
   "id": "49056390",
   "metadata": {},
   "outputs": [],
   "source": [
    "## Solve the Initial Batch by LASSO \n",
    "init_m = LassoCV(cv=5, fit_intercept = False, random_state=0).fit(X0_data.T, y0_data)\n",
    "theta_LASSO = init_m.coef_\n",
    "#print(theta_LASSO)\n",
    "X=X0_data\n",
    "y=y0_data\n",
    "LASSO_loss=[np.sum((X.T@theta_LASSO-y)**2)/50]\n",
    "true_loss=[np.sum((X.T@theta_true-y)**2)/50]\n",
    "lam=0.01\n",
    "for i in range(T):\n",
    "    x_new=X_data[:,0:i+1]\n",
    "    y_new=y_data[0:i+1]\n",
    "    #y=np.append(y,y_new)\n",
    "    a=cal_grad(X,y,theta_LASSO)\n",
    "    b=cal_grad(x_new,y_new,theta_LASSO)\n",
    "    grad=b-a\n",
    "    theta_LASSO=closed_solve(X,y,lam,grad,p)\n",
    "    #if(i%10==9):\n",
    "        #print(X.shape)\n",
    "        #print(X_data[:,0:i+1].shape)\n",
    "    #print(\"the {} turn :\".format(i+1))\n",
    "    #print(a)\n",
    "    #print(b)\n",
    "    #print(grad)\n",
    "    #print(theta_LASSO)\n",
    "    X_test=np.concatenate((X,X_data[:,0:i+1]),axis=1)\n",
    "    y_test=np.concatenate((y,y_data[0:i+1]))\n",
    "    LASSO_loss.append(np.sum((X_test.T@theta_LASSO-y_test)**2)/(50+i+1))\n",
    "    true_loss.append(np.sum((X_test.T@theta_true-y_test)**2)/(50+i+1))\n",
    "    "
   ]
  },
  {
   "cell_type": "code",
   "execution_count": 28,
   "id": "36cf543b",
   "metadata": {},
   "outputs": [
    {
     "data": {
      "image/png": "[encoded data removed]",
      "text/plain": [
       "<Figure size 432x288 with 1 Axes>"
      ]
     },
     "metadata": {
      "needs_background": "light"
     },
     "output_type": "display_data"
    },
    {
     "name": "stdout",
     "output_type": "stream",
     "text": [
      "30\n"
     ]
    }
   ],
   "source": [
    "import matplotlib.pyplot as plt\n",
    "plt.plot(LASSO_loss, 'r',true_loss,'b')\n",
    "plt.show()\n",
    "print(np.argmin(LASSO_loss))"
   ]
  },
  {
   "cell_type": "code",
   "execution_count": 29,
   "id": "2d53b90b",
   "metadata": {},
   "outputs": [
    {
     "data": {
      "text/plain": [
       "array([ 0.32486907, -0.12235128, -0.10563435, -0.21459372,  0.17308153,\n",
       "       -0.46030774,  0.34896235, -0.15224138,  0.        ,  0.        ,\n",
       "        0.29242159, -0.41202814])"
      ]
     },
     "execution_count": 29,
     "metadata": {},
     "output_type": "execute_result"
    }
   ],
   "source": [
    "def argmin_GD(b,eta=0.1,lam):\n",
    "    loss=0xFFFF\n",
    "    x_p=0xFFFF\n",
    "    x=0\n",
    "    while loss>=eta:\n",
    "        x_p=x\n",
    "        x=np.sign(b)*np.maximum((abs(b))-lam,0)\n",
    "        loss=np.sum((x-x_p)**2)\n",
    "    return \n",
    "        "
   ]
  },
  {
   "cell_type": "code",
   "execution_count": 30,
   "id": "300ad1d8",
   "metadata": {},
   "outputs": [
    {
     "data": {
      "text/plain": [
       "array([ 0.4754059 , -0.1548735 ,  0.00168302, -0.19397576,  0.1332928 ,\n",
       "       -0.25886129,  0.26964623, -0.12891065,  0.07038444,  0.02128294,\n",
       "        0.20195041, -0.3918961 ])"
      ]
     },
     "execution_count": 30,
     "metadata": {},
     "output_type": "execute_result"
    }
   ],
   "source": [
    "theta_LASSO"
   ]
  },
  {
   "cell_type": "code",
   "execution_count": 54,
   "id": "f2e97f69",
   "metadata": {},
   "outputs": [
    {
     "data": {
      "text/plain": [
       "array([ 0.3884856 , -0.26736101, -0.10795581, -0.54244179,  0.13358835,\n",
       "        0.00792413,  0.3332919 , -0.23976493, -0.01684859,  0.10612021])"
      ]
     },
     "execution_count": 54,
     "metadata": {},
     "output_type": "execute_result"
    }
   ],
   "source": []
  },
  {
   "cell_type": "code",
   "execution_count": null,
   "id": "2cc89cf9",
   "metadata": {},
   "outputs": [],
   "source": []
  }
 ],
 "metadata": {
  "kernelspec": {
   "display_name": "Python 3 (ipykernel)",
   "language": "python",
   "name": "python3"
  },
  "language_info": {
   "codemirror_mode": {
    "name": "ipython",
    "version": 3
   },
   "file_extension": ".py",
   "mimetype": "text/x-python",
   "name": "python",
   "nbconvert_exporter": "python",
   "pygments_lexer": "ipython3",
   "version": "3.9.12"
  }
 },
 "nbformat": 4,
 "nbformat_minor": 5
}
